%matplotlib inline
import matplotlib.pyplot as plt
import matplotlib.animation as animation
import numpy as np
from mpl_toolkits.mplot3d import Axes3D
from IPython.display import HTML
plt.rcParams['animation.ffmpeg_path'] = '/usr/local/bin/ffmpeg'

def midpoints(x):
    sl = ()
    for i in range(x.ndim):
        x = (x[sl + np.index_exp[:-1]] + x[sl + np.index_exp[1:]]) / 2.0
        sl += np.index_exp[:]
    return x

def init():
    ax.voxels(xr, yr, zr, heart, facecolor="r", edgecolors='pink', linewidth=0.2)
    return fig,

def animate(i, elevation=.15):
    ax.view_init(elev=elevation, azim=3.6*i)
    return fig,

heart_resolution = 50

xr = np.linspace(-1.3, 1.3, heart_resolution)
yr = np.linspace(-1.3, 1.3, heart_resolution)
zr = np.linspace(-1.3, 1.3, heart_resolution)
xr, yr, zr = np.meshgrid(xr, yr, zr)

x = midpoints(xr)
y = midpoints(yr)
z = midpoints(zr)

# Heart formula
heart = (x**2 + (9/4)*y**2 + z**2 - 1)**3 - x**2 * z**3 - (9/80)*y**2 * z**3 < 0
fig = plt.figure(figsize=(16, 16))
ax = fig.gca(projection='3d')

ax.voxels(xr, yr, zr, heart, facecolor="r", edgecolors='w', linewidth=0.2)

fig = plt.figure(figsize=(16, 16))
ax = fig.gca(projection='3d')
ax.grid(False)
ax.set_axis_off()

plt.savefig("3D_heart.png", dpi=200, transparent=False)
plt.show()

anim = animation.FuncAnimation(fig, animate, init_func=init,
                              frames=20, interval=200, blit=False)

FFwriter = animation.FFMpegWriter(fps=30, extra_args=['-vcodec', 'libx264'])
anim.save('basic_animation.mp4', writer=FFwriter)
